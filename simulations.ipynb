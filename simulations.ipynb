{
 "cells": [
  {
   "cell_type": "code",
   "execution_count": 43,
   "metadata": {},
   "outputs": [],
   "source": [
    "import numpy as np\n",
    "from number_gen import numberGen\n",
    "import matplotlib.pyplot as plt"
   ]
  },
  {
   "cell_type": "code",
   "execution_count": 44,
   "metadata": {},
   "outputs": [],
   "source": [
    "def invcdf(u):\n",
    "    a = 1/57\n",
    "    return np.sqrt(((-2)/(a**2)) * np.log(1-u))"
   ]
  },
  {
   "cell_type": "code",
   "execution_count": 45,
   "metadata": {},
   "outputs": [],
   "source": [
    "estimates = 110\n",
    "sMn = [10, 30, 50, 100, 250, 500, 1000]"
   ]
  },
  {
   "cell_type": "code",
   "execution_count": 46,
   "metadata": {},
   "outputs": [],
   "source": [
    "ng = numberGen()\n",
    "samples = []\n",
    "for n in sMn:\n",
    "    meanSamp = []\n",
    "    for i in range(estimates):\n",
    "        sum = 0\n",
    "        for k in range(n):\n",
    "            sum+=invcdf(ng.getNext())\n",
    "            \n",
    "        meanSamp.append(sum/n)    \n",
    "    samples.append(meanSamp)\n"
   ]
  },
  {
   "cell_type": "code",
   "execution_count": 48,
   "metadata": {},
   "outputs": [
    {
     "data": {
      "image/png": "[encoded data removed]",
      "text/plain": [
       "<Figure size 432x288 with 1 Axes>"
      ]
     },
     "metadata": {
      "needs_background": "light"
     },
     "output_type": "display_data"
    }
   ],
   "source": [
    "for i in range(len(sMn)):\n",
    "    for j in range(estimates):\n",
    "        plt.scatter(sMn[i], samples[i][j], color = \"#5061F2\", marker = '.')\n",
    "\n",
    "mu = 57 * np.sqrt(np.pi/2)\n",
    "muX = np.array([0, 1000])\n",
    "muY = np.array([mu, mu])\n",
    "plt.plot(muX, muY, color = '#5061F2', linestyle = 'dashed')\n",
    "plt.xlabel(\"Sample Sizes\")\n",
    "plt.ylabel(\"Sample Mean\")\n",
    "plt.show()"
   ]
  }
 ],
 "metadata": {
  "interpreter": {
   "hash": "916dbcbb3f70747c44a77c7bcd40155683ae19c65e1c03b4aa3499c5328201f1"
  },
  "kernelspec": {
   "display_name": "Python 3.9.7 64-bit",
   "language": "python",
   "name": "python3"
  },
  "language_info": {
   "codemirror_mode": {
    "name": "ipython",
    "version": 3
   },
   "file_extension": ".py",
   "mimetype": "text/x-python",
   "name": "python",
   "nbconvert_exporter": "python",
   "pygments_lexer": "ipython3",
   "version": "3.9.7"
  },
  "orig_nbformat": 4
 },
 "nbformat": 4,
 "nbformat_minor": 2
}
