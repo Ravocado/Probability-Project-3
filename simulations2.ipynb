{
 "cells": [
  {
   "cell_type": "code",
   "execution_count": 78,
   "metadata": {},
   "outputs": [],
   "source": [
    "import numpy as np\n",
    "from number_gen import numberGen\n",
    "import matplotlib.pyplot as plt"
   ]
  },
  {
   "cell_type": "code",
   "execution_count": 79,
   "metadata": {},
   "outputs": [],
   "source": [
    "def invcdf(u):\n",
    "    a = 1/57\n",
    "    return np.sqrt(((-2)/(a**2)) * np.log(1-u))"
   ]
  },
  {
   "cell_type": "code",
   "execution_count": 80,
   "metadata": {},
   "outputs": [],
   "source": [
    "estimates = 550\n",
    "sMn = [3, 9, 27, 81]"
   ]
  },
  {
   "cell_type": "code",
   "execution_count": 81,
   "metadata": {},
   "outputs": [],
   "source": [
    "ng = numberGen()\n",
    "samples = []\n",
    "for n in sMn:\n",
    "    meanSamp = []\n",
    "    for i in range(estimates):\n",
    "        sum = 0\n",
    "        for k in range(n):\n",
    "            sum+=invcdf(ng.getNext())\n",
    "            \n",
    "        meanSamp.append(sum/n)    \n",
    "    samples.append(meanSamp)\n"
   ]
  },
  {
   "cell_type": "code",
   "execution_count": 82,
   "metadata": {},
   "outputs": [
    {
     "name": "stdout",
     "output_type": "stream",
     "text": [
      "[71.64040758258697, 70.75991146855603, 71.40423894532934, 71.27256431876613]\n",
      "[450.4022393611108, 160.12384314907075, 53.3560010588929, 18.382628016578522]\n",
      "[21.222682190550533, 12.654005024065336, 7.30451922161157, 4.287496707471449]\n"
     ]
    }
   ],
   "source": [
    "means = []\n",
    "variances = []\n",
    "def sumList(list):\n",
    "    s = 0\n",
    "    for i in range(len(list)):\n",
    "        s+=list[i]\n",
    "    return s\n",
    "\n",
    "for i in range(len(samples)):\n",
    "    toAppend = (1/estimates) * sumList(samples[i])\n",
    "    means.append(toAppend)\n",
    "\n",
    "for i in range(len(sMn)):\n",
    "    sum = 0\n",
    "    for m in samples[i]:\n",
    "        sum += ((m**2) - (means[i]**2))\n",
    "    variances.append((sum/estimates))\n",
    "\n",
    "stdevs = [np.sqrt(var) for var in variances]\n",
    "print(means)\n",
    "print(variances)\n",
    "print(stdevs)"
   ]
  },
  {
   "cell_type": "code",
   "execution_count": 83,
   "metadata": {},
   "outputs": [],
   "source": [
    "zSamples = []\n",
    "for i in range(len(samples)):\n",
    "    zSample = [(m - means[i])/stdevs[i] for m in samples[i]]\n",
    "    zSamples.append(zSample)"
   ]
  },
  {
   "cell_type": "code",
   "execution_count": 84,
   "metadata": {},
   "outputs": [
    {
     "name": "stdout",
     "output_type": "stream",
     "text": [
      "[[0.06909090909090909, 0.1618181818181818, 0.3290909090909091, 0.5181818181818182, 0.6909090909090909, 0.8436363636363636, 0.9], [0.08181818181818182, 0.16, 0.3090909090909091, 0.49818181818181817, 0.6945454545454546, 0.8418181818181818, 0.9090909090909091], [0.07272727272727272, 0.13818181818181818, 0.3054545454545455, 0.509090909090909, 0.7, 0.86, 0.9327272727272727], [0.08363636363636363, 0.1618181818181818, 0.2963636363636364, 0.5018181818181818, 0.7, 0.8563636363636363, 0.9218181818181819]]\n"
     ]
    }
   ],
   "source": [
    "events = [-1.4, -1, -0.5, 0, 0.5, 1, 1.4]\n",
    "standCDFs = []\n",
    "npZSamples = np.asarray(zSamples)\n",
    "\n",
    "for nSample in npZSamples:\n",
    "    standCDF = []\n",
    "    for event in events:\n",
    "        standCDF.append(len(np.extract(nSample <= event, nSample))/len(nSample))\n",
    "    standCDFs.append(standCDF)\n",
    "\n",
    "print(standCDFs)"
   ]
  }
 ],
 "metadata": {
  "interpreter": {
   "hash": "916dbcbb3f70747c44a77c7bcd40155683ae19c65e1c03b4aa3499c5328201f1"
  },
  "kernelspec": {
   "display_name": "Python 3.9.7 64-bit",
   "language": "python",
   "name": "python3"
  },
  "language_info": {
   "codemirror_mode": {
    "name": "ipython",
    "version": 3
   },
   "file_extension": ".py",
   "mimetype": "text/x-python",
   "name": "python",
   "nbconvert_exporter": "python",
   "pygments_lexer": "ipython3",
   "version": "3.9.7"
  },
  "orig_nbformat": 4
 },
 "nbformat": 4,
 "nbformat_minor": 2
}
