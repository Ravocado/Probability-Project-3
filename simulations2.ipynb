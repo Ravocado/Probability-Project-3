{
 "cells": [
  {
   "cell_type": "code",
   "execution_count": 52,
   "metadata": {},
   "outputs": [],
   "source": [
    "import numpy as np\n",
    "from number_gen import numberGen\n",
    "import matplotlib.pyplot as plt"
   ]
  },
  {
   "cell_type": "code",
   "execution_count": 53,
   "metadata": {},
   "outputs": [],
   "source": [
    "def invcdf(u):\n",
    "    a = 1/57\n",
    "    return np.sqrt(((-2)/(a**2)) * np.log(1-u))"
   ]
  },
  {
   "cell_type": "code",
   "execution_count": 54,
   "metadata": {},
   "outputs": [],
   "source": [
    "estimates = 550\n",
    "sMn = [3, 9, 27, 81]"
   ]
  },
  {
   "cell_type": "code",
   "execution_count": 55,
   "metadata": {},
   "outputs": [],
   "source": [
    "ng = numberGen()\n",
    "samples = []\n",
    "for n in sMn:\n",
    "    meanSamp = []\n",
    "    for i in range(estimates):\n",
    "        sum = 0\n",
    "        for k in range(n):\n",
    "            sum+=invcdf(ng.getNext())\n",
    "            \n",
    "        meanSamp.append(sum/n)    \n",
    "    samples.append(meanSamp)\n"
   ]
  },
  {
   "cell_type": "code",
   "execution_count": 56,
   "metadata": {},
   "outputs": [
    {
     "name": "stdout",
     "output_type": "stream",
     "text": [
      "[71.64040758258697, 70.75991146855603, 71.40423894532934, 71.27256431876613]\n",
      "[450.4022393611108, 160.12384314907075, 53.3560010588929, 18.382628016578522]\n"
     ]
    }
   ],
   "source": [
    "means = []\n",
    "variances = []\n",
    "def sumList(list):\n",
    "    s = 0\n",
    "    for i in range(len(list)):\n",
    "        s+=list[i]\n",
    "    return s\n",
    "\n",
    "for i in range(len(samples)):\n",
    "    toAppend = (1/estimates) * sumList(samples[i])\n",
    "    means.append(toAppend)\n",
    "\n",
    "for i in range(len(sMn)):\n",
    "    sum = 0\n",
    "    for m in samples[i]:\n",
    "        sum += ((m**2) - (means[i]**2))\n",
    "    variances.append((sum/estimates))\n",
    "\n",
    "print(means)\n",
    "print(variances)"
   ]
  },
  {
   "cell_type": "code",
   "execution_count": null,
   "metadata": {},
   "outputs": [],
   "source": []
  }
 ],
 "metadata": {
  "interpreter": {
   "hash": "916dbcbb3f70747c44a77c7bcd40155683ae19c65e1c03b4aa3499c5328201f1"
  },
  "kernelspec": {
   "display_name": "Python 3.9.7 64-bit",
   "language": "python",
   "name": "python3"
  },
  "language_info": {
   "codemirror_mode": {
    "name": "ipython",
    "version": 3
   },
   "file_extension": ".py",
   "mimetype": "text/x-python",
   "name": "python",
   "nbconvert_exporter": "python",
   "pygments_lexer": "ipython3",
   "version": "3.9.7"
  },
  "orig_nbformat": 4
 },
 "nbformat": 4,
 "nbformat_minor": 2
}
